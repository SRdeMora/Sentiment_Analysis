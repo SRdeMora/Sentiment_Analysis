{
 "cells": [
  {
   "cell_type": "code",
   "execution_count": 3,
   "id": "4bbd6192-e9d0-4104-9bea-1fbcd69cc986",
   "metadata": {},
   "outputs": [],
   "source": [
    "!pip install transformers -q\n",
    "!pip install huggingface -q\n",
    "from transformers import pipeline"
   ]
  },
  {
   "cell_type": "code",
   "execution_count": 4,
   "id": "c76899dd-f094-41e4-93db-a864159688d9",
   "metadata": {},
   "outputs": [
    {
     "name": "stdout",
     "output_type": "stream",
     "text": [
      "\u001b[38;5;2m[+] Download and installation successful\u001b[0m\n",
      "You can now load the package via spacy.load('es_core_news_lg')\n"
     ]
    }
   ],
   "source": [
    "!python -m spacy download es_core_news_lg -q\n",
    "import spacy\n",
    "nlp=spacy.load(\"es_core_news_lg\")"
   ]
  },
  {
   "cell_type": "code",
   "execution_count": 277,
   "id": "01cb8f94-da26-4669-8263-930dfe6f33dc",
   "metadata": {},
   "outputs": [
    {
     "name": "stdout",
     "output_type": "stream",
     "text": [
      "Requirement already satisfied: matplotlib in c:\\users\\samuel\\anaconda3\\lib\\site-packages (3.10.1)\n",
      "Requirement already satisfied: contourpy>=1.0.1 in c:\\users\\samuel\\anaconda3\\lib\\site-packages (from matplotlib) (1.2.0)\n",
      "Requirement already satisfied: cycler>=0.10 in c:\\users\\samuel\\anaconda3\\lib\\site-packages (from matplotlib) (0.11.0)\n",
      "Requirement already satisfied: fonttools>=4.22.0 in c:\\users\\samuel\\anaconda3\\lib\\site-packages (from matplotlib) (4.51.0)\n",
      "Requirement already satisfied: kiwisolver>=1.3.1 in c:\\users\\samuel\\anaconda3\\lib\\site-packages (from matplotlib) (1.4.4)\n",
      "Requirement already satisfied: numpy>=1.23 in c:\\users\\samuel\\anaconda3\\lib\\site-packages (from matplotlib) (1.26.4)\n",
      "Requirement already satisfied: packaging>=20.0 in c:\\users\\samuel\\anaconda3\\lib\\site-packages (from matplotlib) (24.1)\n",
      "Requirement already satisfied: pillow>=8 in c:\\users\\samuel\\anaconda3\\lib\\site-packages (from matplotlib) (10.4.0)\n",
      "Requirement already satisfied: pyparsing>=2.3.1 in c:\\users\\samuel\\anaconda3\\lib\\site-packages (from matplotlib) (3.1.2)\n",
      "Requirement already satisfied: python-dateutil>=2.7 in c:\\users\\samuel\\anaconda3\\lib\\site-packages (from matplotlib) (2.9.0.post0)\n",
      "Requirement already satisfied: six>=1.5 in c:\\users\\samuel\\anaconda3\\lib\\site-packages (from python-dateutil>=2.7->matplotlib) (1.16.0)\n"
     ]
    },
    {
     "name": "stderr",
     "output_type": "stream",
     "text": [
      "[nltk_data] Downloading package stopwords to\n",
      "[nltk_data]     C:\\Users\\Samuel\\AppData\\Roaming\\nltk_data...\n",
      "[nltk_data]   Package stopwords is already up-to-date!\n",
      "[nltk_data] Downloading package punkt to\n",
      "[nltk_data]     C:\\Users\\Samuel\\AppData\\Roaming\\nltk_data...\n",
      "[nltk_data]   Package punkt is already up-to-date!\n",
      "[nltk_data] Downloading package punkt_tab to\n",
      "[nltk_data]     C:\\Users\\Samuel\\AppData\\Roaming\\nltk_data...\n",
      "[nltk_data]   Package punkt_tab is already up-to-date!\n"
     ]
    },
    {
     "data": {
      "text/plain": [
       "True"
      ]
     },
     "execution_count": 277,
     "metadata": {},
     "output_type": "execute_result"
    }
   ],
   "source": [
    "import nltk\n",
    "import pandas as pd\n",
    "import numpy as np\n",
    "from IPython.display import display\n",
    "!pip install --upgrade matplotlib\n",
    "import matplotlib.pyplot as plt\n",
    "%matplotlib inline\n",
    "import seaborn as sns\n",
    "from IPython.display import display\n",
    "import re\n",
    "from nltk.tokenize import word_tokenize\n",
    "from nltk.tokenize import sent_tokenize\n",
    "from nltk.corpus import stopwords\n",
    "from nltk.stem import WordNetLemmatizer\n",
    "from nltk.stem.snowball import SnowballStemmer\n",
    "import joblib\n",
    "from joblib import load \n",
    "from joblib import dump\n",
    "from sklearn.utils import shuffle\n",
    "nltk.download('stopwords')\n",
    "nltk.download('punkt')\n",
    "nltk.download('punkt_tab')\n"
   ]
  },
  {
   "cell_type": "code",
   "execution_count": 324,
   "id": "d5342244-3943-4147-ac02-e7b6ca182011",
   "metadata": {},
   "outputs": [
    {
     "name": "stdout",
     "output_type": "stream",
     "text": [
      "Requirement already satisfied: scikit-learn==1.5.1 in c:\\users\\samuel\\anaconda3\\lib\\site-packages (1.5.1)\n",
      "Requirement already satisfied: numpy>=1.19.5 in c:\\users\\samuel\\anaconda3\\lib\\site-packages (from scikit-learn==1.5.1) (1.26.4)\n",
      "Requirement already satisfied: scipy>=1.6.0 in c:\\users\\samuel\\anaconda3\\lib\\site-packages (from scikit-learn==1.5.1) (1.13.1)\n",
      "Requirement already satisfied: joblib>=1.2.0 in c:\\users\\samuel\\anaconda3\\lib\\site-packages (from scikit-learn==1.5.1) (1.4.2)\n",
      "Requirement already satisfied: threadpoolctl>=3.1.0 in c:\\users\\samuel\\anaconda3\\lib\\site-packages (from scikit-learn==1.5.1) (3.5.0)\n"
     ]
    }
   ],
   "source": [
    "!pip install scikit-learn==1.5.1"
   ]
  },
  {
   "cell_type": "code",
   "execution_count": 326,
   "id": "dd8f6eb5-f771-4170-a716-88c01c573690",
   "metadata": {},
   "outputs": [],
   "source": [
    "from sklearn.model_selection import train_test_split\n",
    "from sklearn.feature_extraction.text import CountVectorizer\n",
    "from sklearn.feature_extraction.text import TfidfVectorizer\n",
    "from sklearn.naive_bayes import MultinomialNB\n",
    "from sklearn.linear_model import LogisticRegression\n",
    "from sklearn.svm import SVC\n",
    "from sklearn.svm import LinearSVC\n",
    "from sklearn.tree import DecisionTreeClassifier\n",
    "from sklearn.model_selection import cross_val_score,KFold\n",
    "from sklearn.metrics import accuracy_score\n",
    "from sklearn.metrics import confusion_matrix\n",
    "from sklearn.metrics import classification_report\n",
    "from sklearn.metrics import confusion_matrix, ConfusionMatrixDisplay\n",
    "from sklearn.datasets import make_classification\n",
    "from sklearn.utils import shuffle"
   ]
  },
  {
   "cell_type": "code",
   "execution_count": 328,
   "id": "4c7a3d14-5800-493b-8db5-905276d85aa0",
   "metadata": {},
   "outputs": [
    {
     "name": "stderr",
     "output_type": "stream",
     "text": [
      "Device set to use cpu\n"
     ]
    }
   ],
   "source": [
    "from transformers import pipeline\n",
    "sentiment = pipeline(\"sentiment-analysis\", model=\"pysentimiento/robertuito-sentiment-analysis\")\n"
   ]
  },
  {
   "cell_type": "code",
   "execution_count": 414,
   "id": "af11954f-e053-4820-8666-3a7d46518cdf",
   "metadata": {},
   "outputs": [
    {
     "data": {
      "text/plain": [
       "Etiqueta\n",
       "POS    175\n",
       "NEG    152\n",
       "NEU    141\n",
       "Name: count, dtype: int64"
      ]
     },
     "execution_count": 414,
     "metadata": {},
     "output_type": "execute_result"
    }
   ],
   "source": [
    "df_ok=pd.read_csv(\"Train_Data.csv\", delimiter=',',encoding='utf-8')\n",
    "df1=df_ok['Etiqueta'].value_counts()\n",
    "df1"
   ]
  },
  {
   "cell_type": "code",
   "execution_count": 416,
   "id": "d0956cac-13a9-479e-bb12-814a783f4252",
   "metadata": {},
   "outputs": [
    {
     "data": {
      "text/html": [
       "<div>\n",
       "<style scoped>\n",
       "    .dataframe tbody tr th:only-of-type {\n",
       "        vertical-align: middle;\n",
       "    }\n",
       "\n",
       "    .dataframe tbody tr th {\n",
       "        vertical-align: top;\n",
       "    }\n",
       "\n",
       "    .dataframe thead th {\n",
       "        text-align: right;\n",
       "    }\n",
       "</style>\n",
       "<table border=\"1\" class=\"dataframe\">\n",
       "  <thead>\n",
       "    <tr style=\"text-align: right;\">\n",
       "      <th></th>\n",
       "      <th>Texto de la reseña</th>\n",
       "      <th>Etiqueta</th>\n",
       "    </tr>\n",
       "  </thead>\n",
       "  <tbody>\n",
       "    <tr>\n",
       "      <th>0</th>\n",
       "      <td>Una obra maestra del cine español. La atmósfer...</td>\n",
       "      <td>POS</td>\n",
       "    </tr>\n",
       "    <tr>\n",
       "      <th>1</th>\n",
       "      <td>La fotografía es espectacular, cada plano pare...</td>\n",
       "      <td>POS</td>\n",
       "    </tr>\n",
       "    <tr>\n",
       "      <th>2</th>\n",
       "      <td>Un thriller policíaco que mantiene la tensión ...</td>\n",
       "      <td>POS</td>\n",
       "    </tr>\n",
       "    <tr>\n",
       "      <th>3</th>\n",
       "      <td>Las actuaciones de los protagonistas son sobre...</td>\n",
       "      <td>POS</td>\n",
       "    </tr>\n",
       "    <tr>\n",
       "      <th>4</th>\n",
       "      <td>La ambientación es increíble, realmente te tra...</td>\n",
       "      <td>POS</td>\n",
       "    </tr>\n",
       "    <tr>\n",
       "      <th>...</th>\n",
       "      <td>...</td>\n",
       "      <td>...</td>\n",
       "    </tr>\n",
       "    <tr>\n",
       "      <th>462</th>\n",
       "      <td>\"La película equilibra acción y drama de forma...</td>\n",
       "      <td>NEU</td>\n",
       "    </tr>\n",
       "    <tr>\n",
       "      <th>463</th>\n",
       "      <td>\"El diseño de vestuario y escenarios es apropi...</td>\n",
       "      <td>NEU</td>\n",
       "    </tr>\n",
       "    <tr>\n",
       "      <th>464</th>\n",
       "      <td>\"No es la mejor obra de Ridley Scott, pero tam...</td>\n",
       "      <td>NEU</td>\n",
       "    </tr>\n",
       "    <tr>\n",
       "      <th>465</th>\n",
       "      <td>\"La película ofrece una mezcla de acción y dra...</td>\n",
       "      <td>NEU</td>\n",
       "    </tr>\n",
       "    <tr>\n",
       "      <th>466</th>\n",
       "      <td>\"El retrato de Napoleón es interesante, aunque...</td>\n",
       "      <td>NEU</td>\n",
       "    </tr>\n",
       "  </tbody>\n",
       "</table>\n",
       "<p>420 rows × 2 columns</p>\n",
       "</div>"
      ],
      "text/plain": [
       "                                    Texto de la reseña Etiqueta\n",
       "0    Una obra maestra del cine español. La atmósfer...      POS\n",
       "1    La fotografía es espectacular, cada plano pare...      POS\n",
       "2    Un thriller policíaco que mantiene la tensión ...      POS\n",
       "3    Las actuaciones de los protagonistas son sobre...      POS\n",
       "4    La ambientación es increíble, realmente te tra...      POS\n",
       "..                                                 ...      ...\n",
       "462  \"La película equilibra acción y drama de forma...      NEU\n",
       "463  \"El diseño de vestuario y escenarios es apropi...      NEU\n",
       "464  \"No es la mejor obra de Ridley Scott, pero tam...      NEU\n",
       "465  \"La película ofrece una mezcla de acción y dra...      NEU\n",
       "466  \"El retrato de Napoleón es interesante, aunque...      NEU\n",
       "\n",
       "[420 rows x 2 columns]"
      ]
     },
     "execution_count": 416,
     "metadata": {},
     "output_type": "execute_result"
    }
   ],
   "source": [
    "x1=df_ok[df_ok['Etiqueta']=='POS']\n",
    "x2=df_ok[df_ok['Etiqueta']=='NEG']\n",
    "x3=df_ok[df_ok['Etiqueta']=='NEU']\n",
    "Nx1=x1.head(140)\n",
    "Nx2=x2.head(140)\n",
    "Nx3=x3.head(140)\n",
    "df=pd.concat([Nx1,Nx2,Nx3])\n",
    "df"
   ]
  },
  {
   "cell_type": "code",
   "execution_count": 418,
   "id": "f82defb3-f7b1-4c6f-8df5-dcc21442b817",
   "metadata": {},
   "outputs": [
    {
     "name": "stderr",
     "output_type": "stream",
     "text": [
      "[nltk_data] Downloading package punkt to\n",
      "[nltk_data]     C:\\Users\\Samuel\\AppData\\Roaming\\nltk_data...\n",
      "[nltk_data]   Package punkt is already up-to-date!\n",
      "[nltk_data] Downloading package stopwords to\n",
      "[nltk_data]     C:\\Users\\Samuel\\AppData\\Roaming\\nltk_data...\n",
      "[nltk_data]   Package stopwords is already up-to-date!\n",
      "[nltk_data] Downloading package wordnet to\n",
      "[nltk_data]     C:\\Users\\Samuel\\AppData\\Roaming\\nltk_data...\n",
      "[nltk_data]   Package wordnet is already up-to-date!\n"
     ]
    }
   ],
   "source": [
    "\n",
    "nltk.download('punkt')\n",
    "nltk.download('stopwords')\n",
    "nltk.download('wordnet')\n",
    "\n",
    "def limpiar_texto(texto):\n",
    "    texto = texto.lower()\n",
    "    texto = re.sub(r'[^\\w\\s]', '', texto)  \n",
    "    texto = re.sub(r'\\d+', '', texto)     \n",
    "    palabras =word_tokenize(texto)\n",
    "    doc = nlp(' '.join(palabras))\n",
    "    palabras = [token.lemma_ for token in doc]\n",
    "    return ' '.join(palabras)\n",
    "\n",
    "df_texto=df['Texto de la reseña'].apply(limpiar_texto)\n"
   ]
  },
  {
   "cell_type": "code",
   "execution_count": 419,
   "id": "e37c1bc2-e675-4475-a9ad-689096633328",
   "metadata": {
    "scrolled": true
   },
   "outputs": [
    {
     "data": {
      "text/html": [
       "<div>\n",
       "<style scoped>\n",
       "    .dataframe tbody tr th:only-of-type {\n",
       "        vertical-align: middle;\n",
       "    }\n",
       "\n",
       "    .dataframe tbody tr th {\n",
       "        vertical-align: top;\n",
       "    }\n",
       "\n",
       "    .dataframe thead th {\n",
       "        text-align: right;\n",
       "    }\n",
       "</style>\n",
       "<table border=\"1\" class=\"dataframe\">\n",
       "  <thead>\n",
       "    <tr style=\"text-align: right;\">\n",
       "      <th></th>\n",
       "      <th>Texto de la reseña</th>\n",
       "      <th>Etiqueta</th>\n",
       "    </tr>\n",
       "  </thead>\n",
       "  <tbody>\n",
       "    <tr>\n",
       "      <th>25</th>\n",
       "      <td>él notar que el director querer imitar a el gr...</td>\n",
       "      <td>NEG</td>\n",
       "    </tr>\n",
       "    <tr>\n",
       "      <th>154</th>\n",
       "      <td>el fotografía ser adecuado pero no alcanzar a ...</td>\n",
       "      <td>NEU</td>\n",
       "    </tr>\n",
       "    <tr>\n",
       "      <th>113</th>\n",
       "      <td>el guion carecer de profundidad</td>\n",
       "      <td>NEG</td>\n",
       "    </tr>\n",
       "    <tr>\n",
       "      <th>307</th>\n",
       "      <td>aunque el cinematografía ser hermoso el pelícu...</td>\n",
       "      <td>NEU</td>\n",
       "    </tr>\n",
       "    <tr>\n",
       "      <th>463</th>\n",
       "      <td>el diseño de vestuario y escenario ser apropia...</td>\n",
       "      <td>NEU</td>\n",
       "    </tr>\n",
       "    <tr>\n",
       "      <th>...</th>\n",
       "      <td>...</td>\n",
       "      <td>...</td>\n",
       "    </tr>\n",
       "    <tr>\n",
       "      <th>200</th>\n",
       "      <td>cada escena estar lleno de color y vida transp...</td>\n",
       "      <td>POS</td>\n",
       "    </tr>\n",
       "    <tr>\n",
       "      <th>275</th>\n",
       "      <td>uno exploración profundo y conmovedor de el co...</td>\n",
       "      <td>POS</td>\n",
       "    </tr>\n",
       "    <tr>\n",
       "      <th>406</th>\n",
       "      <td>el diálogo ser básico y sin fuerza como si ser...</td>\n",
       "      <td>NEG</td>\n",
       "    </tr>\n",
       "    <tr>\n",
       "      <th>227</th>\n",
       "      <td>el película ser visualmente atractivo pero car...</td>\n",
       "      <td>NEU</td>\n",
       "    </tr>\n",
       "    <tr>\n",
       "      <th>266</th>\n",
       "      <td>uno representación magistral de el vida de hip...</td>\n",
       "      <td>POS</td>\n",
       "    </tr>\n",
       "  </tbody>\n",
       "</table>\n",
       "<p>420 rows × 2 columns</p>\n",
       "</div>"
      ],
      "text/plain": [
       "                                    Texto de la reseña Etiqueta\n",
       "25   él notar que el director querer imitar a el gr...      NEG\n",
       "154  el fotografía ser adecuado pero no alcanzar a ...      NEU\n",
       "113                    el guion carecer de profundidad      NEG\n",
       "307  aunque el cinematografía ser hermoso el pelícu...      NEU\n",
       "463  el diseño de vestuario y escenario ser apropia...      NEU\n",
       "..                                                 ...      ...\n",
       "200  cada escena estar lleno de color y vida transp...      POS\n",
       "275  uno exploración profundo y conmovedor de el co...      POS\n",
       "406  el diálogo ser básico y sin fuerza como si ser...      NEG\n",
       "227  el película ser visualmente atractivo pero car...      NEU\n",
       "266  uno representación magistral de el vida de hip...      POS\n",
       "\n",
       "[420 rows x 2 columns]"
      ]
     },
     "execution_count": 419,
     "metadata": {},
     "output_type": "execute_result"
    }
   ],
   "source": [
    "df1 = pd.concat([df_texto, df['Etiqueta']], axis=1)\n",
    "df1.columns = ['Texto de la reseña', 'Etiqueta']\n",
    "df1=shuffle(df1, random_state=42)\n",
    "df1"
   ]
  },
  {
   "cell_type": "code",
   "execution_count": 336,
   "id": "63503c91-85e6-4802-81ae-40602fe75404",
   "metadata": {},
   "outputs": [
    {
     "name": "stdout",
     "output_type": "stream",
     "text": [
      "[-1  0 -1  0  0  1  1  1  1  1  1  1  0  1  0  0  1 -1 -1 -1 -1 -1  0 -1\n",
      "  1  0  1  0 -1  1  0  1 -1 -1  0 -1 -1  1 -1 -1  1  1  0  1  1  0 -1  0\n",
      "  0  1  1  0  1  1  0 -1  0 -1  1  1  0  1  1  0 -1  0 -1  1 -1  0  1  0\n",
      "  0 -1  1  1  0  1  0  0  1  0  1  1  1  1  1  1  0  0  0 -1 -1 -1 -1  1\n",
      "  1  0  0  0 -1  1  0 -1  0  1  1  0  1 -1 -1  1  1  0  0  1  0  0  0  1\n",
      "  1 -1  0  1  1  0  1 -1  0  1  1  0 -1 -1 -1  0  0 -1 -1  0  1 -1 -1 -1\n",
      " -1  1 -1 -1  1 -1  1 -1 -1 -1  0  0  0  0  0  0  1  1  0 -1 -1  0  1  1\n",
      "  0 -1  1  0  0 -1 -1  1 -1  1  1  0  0 -1  0 -1 -1  0  0  1 -1 -1 -1 -1\n",
      "  1  1  1 -1  1  1 -1  0  0  1  0  1  1  1 -1  1 -1 -1 -1  1  0  0 -1 -1\n",
      "  0 -1  1 -1  0  1  0 -1 -1  0  0 -1  0 -1 -1  0  0  0  1  1  1  0 -1 -1\n",
      "  1 -1 -1  0  0  0  1  0  0  0  0 -1  0 -1 -1  0  1 -1 -1  1  1 -1  0  0\n",
      "  1  0  1  0  1  0  1  0  1  1 -1 -1 -1  1  1  1 -1 -1  0  0 -1  1  1 -1\n",
      "  0  0 -1  1  0 -1  0 -1  0  1 -1  0  1 -1  0 -1 -1  1  0 -1  1  1  1 -1\n",
      " -1  0  1  0 -1 -1  0 -1  0  1  1  1  1  1  1  0  1 -1  1  0  0 -1 -1  0\n",
      " -1 -1 -1  0  0 -1  0  0  0 -1 -1 -1  1 -1 -1  0 -1  1  1  1  1  1 -1  1\n",
      " -1  1  0  1  0 -1 -1  1  0  1 -1 -1  0  0  1  0  0  0 -1  1  0  1 -1 -1\n",
      "  0 -1 -1  1  1  0 -1 -1  1  0 -1 -1 -1  0  0  0 -1  0 -1  1 -1  0  1  0\n",
      "  1  0 -1  1  0  1 -1  1  1 -1  0  1]\n"
     ]
    },
    {
     "data": {
      "text/plain": [
       "Etiqueta\n",
       "NEG    140\n",
       "NEU    140\n",
       "POS    140\n",
       "Name: count, dtype: int64"
      ]
     },
     "execution_count": 336,
     "metadata": {},
     "output_type": "execute_result"
    }
   ],
   "source": [
    "y =df1['Etiqueta']\n",
    "label_to_number = {'POS': 1, 'NEG': -1, 'NEU': 0}\n",
    "numeric_labels = np.vectorize(label_to_number.get)(y)\n",
    "print(numeric_labels)\n",
    "\n",
    "df_count=df1['Etiqueta'].value_counts()\n",
    "df_count"
   ]
  },
  {
   "cell_type": "code",
   "execution_count": 430,
   "id": "5efb1b05-09a5-4af2-be0a-fcd4521d3b43",
   "metadata": {
    "scrolled": true
   },
   "outputs": [
    {
     "name": "stdout",
     "output_type": "stream",
     "text": [
      "Reporte de Clasificación:\n",
      "\n",
      "              precision    recall  f1-score   support\n",
      "\n",
      "          -1       0.74      0.83      0.78       140\n",
      "           0       0.63      0.51      0.56       140\n",
      "           1       0.80      0.84      0.82       140\n",
      "\n",
      "    accuracy                           0.73       420\n",
      "   macro avg       0.72      0.73      0.72       420\n",
      "weighted avg       0.72      0.73      0.72       420\n",
      "\n",
      "Accuracy Robertuito: 72.86%\n"
     ]
    }
   ],
   "source": [
    "\n",
    "y_test=numeric_labels\n",
    "X = df1['Texto de la reseña']\n",
    "predicciones = []\n",
    "for texto in X:\n",
    "    resultado = sentiment(texto)[0] \n",
    "    predicciones.append(resultado['label'])\n",
    "mapeo = {\"NEG\": -1, \"NEU\": 0, \"POS\": 1}\n",
    "predicciones_numericas = [mapeo[pred] for pred in predicciones]\n",
    "print(\"Reporte de Clasificación:\\n\")\n",
    "print(classification_report(y_test, predicciones_numericas))\n",
    "accuracy = accuracy_score(y_test, predicciones_numericas)\n",
    "print(f\"Accuracy Robertuito: {accuracy * 100:.2f}%\")\n",
    "\n",
    "\n",
    "\n"
   ]
  },
  {
   "cell_type": "code",
   "execution_count": 432,
   "id": "9f350d21-57e2-4c5c-a183-2f4e1ef7b6c4",
   "metadata": {},
   "outputs": [
    {
     "name": "stdin",
     "output_type": "stream",
     "text": [
      "Vectorizador: TFIDF , COUNT TFIDF\n"
     ]
    }
   ],
   "source": [
    "X = df1['Texto de la reseña']\n",
    "y = numeric_labels  # Etiquetas originales\n",
    "X_train, X_test, y_train, y_test = train_test_split(X, y, test_size=0.05,random_state=42, stratify=y)\n",
    "Vectorizar=input('Vectorizador: TFIDF , COUNT')\n",
    "if Vectorizar=='COUNT':\n",
    "    vectorizer=CountVectorizer(ngram_range=(1, 2),       # Extrae unigramas y bigramas\n",
    "                                max_features=1000,          # Limita el vocabulario a los 10 términos más comunes\n",
    "                                lowercase=True,           # Convierte el texto a minúsculas\n",
    "                                binary=False              # Frecuencias normales (no binarias)\n",
    "                            )\n",
    "    X_train_vectorized = vectorizer.fit_transform(X_train)  # Entrenamiento\n",
    "    X_test_vectorized = vectorizer.transform(X_test)  # Prueba\n",
    "    joblib.dump(vectorizer, 'vectorizador_CountVectorizer.pkl')\n",
    "else:                          \n",
    "    vectorizer = TfidfVectorizer(max_features=1000,           # Limita el vocabulario a las 10 palabras/tokens más frecuentes\n",
    "                                 ngram_range=(1, 2),      # Usa unigramas y bigrama\n",
    "                                        # Suaviza los valores de IDF para evitar extremos\n",
    "                            )\n",
    "    X_train_vectorized = vectorizer.fit_transform(X_train)  # Entrenamiento\n",
    "    X_test_vectorized = vectorizer.transform(X_test)  # Prueba\n",
    "    joblib.dump(vectorizer, 'vectorizador_tfidf.pkl')\n",
    "    "
   ]
  },
  {
   "cell_type": "code",
   "execution_count": 434,
   "id": "1c5be748-c922-446f-a151-92d7ed0071ef",
   "metadata": {},
   "outputs": [
    {
     "name": "stdout",
     "output_type": "stream",
     "text": [
      "\n",
      "Reporte de clasificación:\n",
      "               precision    recall  f1-score   support\n",
      "\n",
      "          -1       0.86      0.86      0.86         7\n",
      "           0       1.00      0.71      0.83         7\n",
      "           1       0.78      1.00      0.88         7\n",
      "\n",
      "    accuracy                           0.86        21\n",
      "   macro avg       0.88      0.86      0.86        21\n",
      "weighted avg       0.88      0.86      0.86        21\n",
      "\n",
      "KFOLD\n",
      "Precisión en cada fold: [0.7375     0.8        0.75       0.8125     0.74683544]\n",
      "Promedio de precisión: 76.94%, Desviación: 0.03\n"
     ]
    },
    {
     "data": {
      "image/png": "[encoded data removed]",
      "text/plain": [
       "<Figure size 640x480 with 2 Axes>"
      ]
     },
     "metadata": {},
     "output_type": "display_data"
    }
   ],
   "source": [
    "modelLoR =LogisticRegression(max_iter=1000, solver='liblinear',C=50,random_state=42 )   \n",
    "modelLoR.fit(X_train_vectorized, y_train)\n",
    "y_pred = modelLoR.predict(X_test_vectorized)\n",
    "modelLoR.score(X_train_vectorized, y_train)\n",
    "print(\"\\nReporte de clasificación:\\n\", classification_report(y_test, y_pred))\n",
    "kfold = KFold(n_splits=5, shuffle=True, random_state=42) \n",
    "scores = cross_val_score(modelLoR, X_train_vectorized, y_train, cv=kfold, scoring='accuracy')\n",
    "print(\"KFOLD\")\n",
    "print(\"Precisión en cada fold:\", scores)\n",
    "print(f'Promedio de precisión: {scores.mean()*100:,.2f}%, Desviación: {np.std(scores):.2f}')\n",
    "matrix = confusion_matrix(y_test, y_pred)\n",
    "disp = ConfusionMatrixDisplay(confusion_matrix=matrix,display_labels=modelLoR.classes_)\n",
    "joblib.dump(modelLoR, 'modelo_LoR.pkl')\n",
    "disp.plot()\n",
    "plt.show()\n"
   ]
  },
  {
   "cell_type": "code",
   "execution_count": 436,
   "id": "71ecfa13-3c49-4f7f-ab20-6f80d8f3bc22",
   "metadata": {},
   "outputs": [
    {
     "name": "stdout",
     "output_type": "stream",
     "text": [
      "\n",
      "Reporte de clasificación:\n",
      "               precision    recall  f1-score   support\n",
      "\n",
      "          -1       0.71      0.71      0.71         7\n",
      "           0       0.71      0.71      0.71         7\n",
      "           1       0.86      0.86      0.86         7\n",
      "\n",
      "    accuracy                           0.76        21\n",
      "   macro avg       0.76      0.76      0.76        21\n",
      "weighted avg       0.76      0.76      0.76        21\n",
      "\n",
      "KFOLD\n",
      "Precisión en cada fold: [0.7625     0.7625     0.7125     0.7875     0.72151899]\n",
      "Promedio de precisión: 74.93%, Desviación: 0.03\n"
     ]
    },
    {
     "data": {
      "image/png": "[encoded data removed]",
      "text/plain": [
       "<Figure size 640x480 with 2 Axes>"
      ]
     },
     "metadata": {},
     "output_type": "display_data"
    }
   ],
   "source": [
    "modelNB = MultinomialNB()\n",
    "modelNB.fit(X_train_vectorized, y_train)\n",
    "y_pred = modelNB.predict(X_test_vectorized)\n",
    "modelNB.score(X_train_vectorized, y_train)\n",
    "print(\"\\nReporte de clasificación:\\n\", classification_report(y_test, y_pred))\n",
    "disp = ConfusionMatrixDisplay(confusion_matrix=matrix,display_labels=modelNB.classes_)\n",
    "kfold = KFold(n_splits=5, shuffle=True, random_state=42) \n",
    "scoresNB = cross_val_score(modelNB, X_train_vectorized, y_train, cv=kfold, scoring='accuracy')\n",
    "print(\"KFOLD\")\n",
    "print(\"Precisión en cada fold:\", scoresNB)\n",
    "print(f'Promedio de precisión: {scoresNB.mean()*100:,.2f}%, Desviación: {np.std(scoresNB):.2f}')\n",
    "joblib.dump(modelNB, 'modelo_NB.pkl')\n",
    "disp.plot()\n",
    "plt.show()"
   ]
  },
  {
   "cell_type": "code",
   "execution_count": 438,
   "id": "e184300f-835a-46ae-adf6-56921ad02748",
   "metadata": {},
   "outputs": [
    {
     "name": "stdout",
     "output_type": "stream",
     "text": [
      "Reporte de Clasificación:\n",
      "              precision    recall  f1-score   support\n",
      "\n",
      "          -1       0.86      0.86      0.86         7\n",
      "           0       1.00      0.71      0.83         7\n",
      "           1       0.78      1.00      0.88         7\n",
      "\n",
      "    accuracy                           0.86        21\n",
      "   macro avg       0.88      0.86      0.86        21\n",
      "weighted avg       0.88      0.86      0.86        21\n",
      "\n",
      "KFOLD\n",
      "Precisión en cada fold: [0.75       0.8        0.7375     0.8375     0.73417722]\n",
      "Promedio de precisión: 77.18%, Desviación: 0.04\n"
     ]
    },
    {
     "data": {
      "image/png": "[encoded data removed]",
      "text/plain": [
       "<Figure size 640x480 with 2 Axes>"
      ]
     },
     "metadata": {},
     "output_type": "display_data"
    }
   ],
   "source": [
    "model_LSVC = LinearSVC(max_iter=1000,loss='squared_hinge')\n",
    "model_LSVC.fit(X_train_vectorized, y_train)\n",
    "y_pred = model_LSVC.predict(X_test_vectorized)\n",
    "print(\"Reporte de Clasificación:\")\n",
    "print(classification_report(y_test, y_pred))\n",
    "matrix = confusion_matrix(y_test, y_pred, labels=model_LSVC.classes_)\n",
    "disp = ConfusionMatrixDisplay(confusion_matrix=matrix, display_labels=model_LSVC.classes_)\n",
    "kfold = KFold(n_splits=5, shuffle=True, random_state=42) \n",
    "scores = cross_val_score(model_LSVC, X_train_vectorized, y_train, cv=kfold, scoring='accuracy')\n",
    "print(\"KFOLD\")\n",
    "print(\"Precisión en cada fold:\", scores)\n",
    "print(f'Promedio de precisión: {scores.mean()*100:,.2f}%, Desviación: {np.std(scores):.2f}')\n",
    "joblib.dump(model_LSVC, 'modelo_LSVC.pkl')\n",
    "disp.plot()\n",
    "plt.show()\n"
   ]
  },
  {
   "cell_type": "code",
   "execution_count": 440,
   "id": "a8991203-3804-4b70-8e11-30ef73342f6d",
   "metadata": {},
   "outputs": [
    {
     "name": "stdout",
     "output_type": "stream",
     "text": [
      "Reporte de Clasificación:\n",
      "              precision    recall  f1-score   support\n",
      "\n",
      "          -1       0.86      0.86      0.86         7\n",
      "           0       0.71      0.71      0.71         7\n",
      "           1       0.86      0.86      0.86         7\n",
      "\n",
      "    accuracy                           0.81        21\n",
      "   macro avg       0.81      0.81      0.81        21\n",
      "weighted avg       0.81      0.81      0.81        21\n",
      "\n",
      "KFOLD\n",
      "Precisión en cada fold: [0.7625     0.8125     0.725      0.8        0.73417722]\n",
      "Promedio de precisión: 76.68%, Desviación: 0.03\n"
     ]
    },
    {
     "data": {
      "image/png": "[encoded data removed]",
      "text/plain": [
       "<Figure size 640x480 with 2 Axes>"
      ]
     },
     "metadata": {},
     "output_type": "display_data"
    }
   ],
   "source": [
    "model_SVC = SVC(kernel='linear',C=1.0,gamma=0.1, random_state=42)  \n",
    "model_SVC.fit(X_train_vectorized, y_train)\n",
    "y_pred = model_SVC.predict(X_test_vectorized)\n",
    "print(\"Reporte de Clasificación:\")\n",
    "print(classification_report(y_test, y_pred))\n",
    "matrix = confusion_matrix(y_test, y_pred, labels=model_SVC.classes_)\n",
    "disp = ConfusionMatrixDisplay(confusion_matrix=matrix)\n",
    "kfold = KFold(n_splits=5, shuffle=True, random_state=42) \n",
    "scores = cross_val_score(model_SVC, X_train_vectorized, y_train, cv=kfold, scoring='accuracy')\n",
    "print(\"KFOLD\")\n",
    "print(\"Precisión en cada fold:\", scores)\n",
    "print(f'Promedio de precisión: {scores.mean()*100:,.2f}%, Desviación: {np.std(scores):.2f}')\n",
    "joblib.dump(model_SVC, 'modelo_SVC.pkl')\n",
    "disp.plot()\n",
    "plt.show()"
   ]
  },
  {
   "cell_type": "code",
   "execution_count": 442,
   "id": "49ebc660-ca54-4fff-9abb-c372b980bc77",
   "metadata": {},
   "outputs": [
    {
     "name": "stdout",
     "output_type": "stream",
     "text": [
      "Reporte de Clasificación:\n",
      "              precision    recall  f1-score   support\n",
      "\n",
      "          -1       0.60      0.86      0.71         7\n",
      "           0       1.00      0.86      0.92         7\n",
      "           1       0.80      0.57      0.67         7\n",
      "\n",
      "    accuracy                           0.76        21\n",
      "   macro avg       0.80      0.76      0.77        21\n",
      "weighted avg       0.80      0.76      0.77        21\n",
      "\n",
      "KFOLD\n",
      "Precisión en cada fold: [0.675      0.6625     0.6375     0.6625     0.62025316]\n",
      "Promedio de precisión: 65.16%, Desviación: 0.02\n"
     ]
    },
    {
     "data": {
      "image/png": "[encoded data removed]",
      "text/plain": [
       "<Figure size 640x480 with 2 Axes>"
      ]
     },
     "metadata": {},
     "output_type": "display_data"
    }
   ],
   "source": [
    "model_DT=DecisionTreeClassifier(criterion='gini',max_depth=3,max_features=1000,random_state=42)\n",
    "model_DT.fit(X_train_vectorized, y_train)\n",
    "y_pred = model_DT.predict(X_test_vectorized)\n",
    "print(\"Reporte de Clasificación:\")\n",
    "print(classification_report(y_test, y_pred))\n",
    "matrix = confusion_matrix(y_test, y_pred, labels=model_DT.classes_)\n",
    "disp = ConfusionMatrixDisplay(confusion_matrix=matrix)\n",
    "kfold = KFold(n_splits=5, shuffle=True, random_state=42) \n",
    "scores = cross_val_score(model_DT, X_train_vectorized, y_train, cv=kfold, scoring='accuracy')\n",
    "print(\"KFOLD\")\n",
    "print(\"Precisión en cada fold:\", scores)\n",
    "print(f'Promedio de precisión: {scores.mean()*100:,.2f}%, Desviación: {np.std(scores):.2f}')\n",
    "joblib.dump(model_DT, 'modelo_DT.pkl')\n",
    "disp.plot()\n",
    "plt.show()"
   ]
  },
  {
   "cell_type": "code",
   "execution_count": 390,
   "id": "aaf2e0cb-2b31-4eb7-9c70-ddfbe46e789f",
   "metadata": {},
   "outputs": [
    {
     "name": "stdout",
     "output_type": "stream",
     "text": [
      "TFIDF:LoR:76.94% (3.06%)\n",
      "TFIDF:NB:74.93% (2.80%)\n",
      "TFIDF:CART:65.16% (1.98%)\n",
      "TFIDF:SVC:76.68% (3.47%)\n",
      "TFIDF:LSVC:77.18% (4.04%)\n",
      "RObertuito: 72.86%\n"
     ]
    }
   ],
   "source": [
    "\n",
    "models = []\n",
    "models.append(('LoR', modelLoR))\n",
    "models.append(('NB', modelNB))\n",
    "models.append(('CART', model_DT))\n",
    "models.append(('SVC', model_SVC))\n",
    "models.append(('LSVC',  model_LSVC))\n",
    "# evaluate each model in turn\n",
    "results = []\n",
    "names = []\n",
    "df_data=[]\n",
    "scoring = 'accuracy'\n",
    "estadistica=[]\n",
    "for name, model in models:\n",
    "    kfold = KFold(n_splits=5, random_state=42, shuffle=True)\n",
    "    cv_results = cross_val_score(model, X_train_vectorized, y_train, cv=kfold, scoring=scoring)\n",
    "    results.append(cv_results)\n",
    "    names.append(name)\n",
    "    df_data.append({\n",
    "        'Modelo': name,\n",
    "        'Precisión Media (%)': cv_results.mean() * 100,\n",
    "        'Desviación (%)': cv_results.std() * 100\n",
    "    })\n",
    "    print(f'{Vectorizar}:{name}:{cv_results.mean()*100.0:,.2f}% ({cv_results.std()*100.0:,.2f}%)')\n",
    "y_test=numeric_labels\n",
    "X = df1['Texto de la reseña']\n",
    "predicciones = []\n",
    "for texto in X:\n",
    "    resultado = sentiment(texto)[0]  # Usar el pipeline para cada texto\n",
    "    predicciones.append(resultado['label'])\n",
    "accuracy = accuracy_score(y_test, predicciones_numericas)\n",
    "print( f\"RObertuito: {accuracy * 100:.2f}%\")\n",
    "\n",
    "\n"
   ]
  },
  {
   "cell_type": "code",
   "execution_count": 444,
   "id": "de559dec-1998-444d-b00c-a338b4d4e343",
   "metadata": {},
   "outputs": [
    {
     "data": {
      "image/png": "[encoded data removed]",
      "text/plain": [
       "<Figure size 640x480 with 1 Axes>"
      ]
     },
     "metadata": {},
     "output_type": "display_data"
    }
   ],
   "source": [
    "fig = plt.figure()\n",
    "fig.suptitle('Algorithm Comparison')\n",
    "ax = fig.add_subplot(111)\n",
    "plt.boxplot(results)\n",
    "ax.set_xticklabels(names)\n",
    "plt.show()"
   ]
  },
  {
   "cell_type": "code",
   "execution_count": 446,
   "id": "81f1d159-ee18-4a23-acf1-8d89e6dc9110",
   "metadata": {},
   "outputs": [
    {
     "name": "stdout",
     "output_type": "stream",
     "text": [
      "Resultados para TFIDF:\n"
     ]
    },
    {
     "data": {
      "text/html": [
       "<div>\n",
       "<style scoped>\n",
       "    .dataframe tbody tr th:only-of-type {\n",
       "        vertical-align: middle;\n",
       "    }\n",
       "\n",
       "    .dataframe tbody tr th {\n",
       "        vertical-align: top;\n",
       "    }\n",
       "\n",
       "    .dataframe thead th {\n",
       "        text-align: right;\n",
       "    }\n",
       "</style>\n",
       "<table border=\"1\" class=\"dataframe\">\n",
       "  <thead>\n",
       "    <tr style=\"text-align: right;\">\n",
       "      <th></th>\n",
       "      <th>Modelo</th>\n",
       "      <th>Precisión Media (%)</th>\n",
       "      <th>Desviación (%)</th>\n",
       "    </tr>\n",
       "  </thead>\n",
       "  <tbody>\n",
       "    <tr>\n",
       "      <th>0</th>\n",
       "      <td>LoR</td>\n",
       "      <td>76.936709</td>\n",
       "      <td>3.064994</td>\n",
       "    </tr>\n",
       "    <tr>\n",
       "      <th>1</th>\n",
       "      <td>NB</td>\n",
       "      <td>74.930380</td>\n",
       "      <td>2.804904</td>\n",
       "    </tr>\n",
       "    <tr>\n",
       "      <th>2</th>\n",
       "      <td>CART</td>\n",
       "      <td>65.155063</td>\n",
       "      <td>1.983231</td>\n",
       "    </tr>\n",
       "    <tr>\n",
       "      <th>3</th>\n",
       "      <td>SVC</td>\n",
       "      <td>76.683544</td>\n",
       "      <td>3.470072</td>\n",
       "    </tr>\n",
       "    <tr>\n",
       "      <th>4</th>\n",
       "      <td>LSVC</td>\n",
       "      <td>77.183544</td>\n",
       "      <td>4.044485</td>\n",
       "    </tr>\n",
       "  </tbody>\n",
       "</table>\n",
       "</div>"
      ],
      "text/plain": [
       "  Modelo  Precisión Media (%)  Desviación (%)\n",
       "0    LoR            76.936709        3.064994\n",
       "1     NB            74.930380        2.804904\n",
       "2   CART            65.155063        1.983231\n",
       "3    SVC            76.683544        3.470072\n",
       "4   LSVC            77.183544        4.044485"
      ]
     },
     "metadata": {},
     "output_type": "display_data"
    }
   ],
   "source": [
    "if Vectorizar=='TFIDF':\n",
    "    df_TFIDF=pd.DataFrame(df_data)\n",
    "    print('Resultados para TFIDF:')\n",
    "    display(df_TFIDF)\n",
    "else:\n",
    "    df_Count=pd.DataFrame(df_data)\n",
    "    print('Resultados para CountVectorized:')\n",
    "    display(df_Count)"
   ]
  },
  {
   "cell_type": "code",
   "execution_count": 448,
   "id": "66673ae0-d479-4a1e-8227-7da58b7e831f",
   "metadata": {},
   "outputs": [],
   "source": [
    "new_reviews=[\"Es una pelicula que cumple pero no destaca\",\n",
    "        \"la producción es impecable\", \n",
    "        \"el guion carece de profundidad\",\n",
    "        \"el desarrollo de sus personajes es superficial y poco convincente.\",\n",
    "        \" Hay secuencias bien logradas\",\n",
    "        \"el guion no tiene el mismo impacto emocional que la primera película.\",\n",
    "        \"Paul Mescal y Pedro Pascal ofrecen actuaciones sobresalientes\", \n",
    "        \"la trama no alcanza el mismo nivel de profundidad emocional que su predecesora\",\n",
    "        \"Las escenas de acción y la banda sonora son impresionantes\",\n",
    "        \"la falta de un personaje tan icónico como Máximo resta un poco de fuerza a la narrativa\"\n",
    "       ]\n"
   ]
  },
  {
   "cell_type": "code",
   "execution_count": 398,
   "id": "46386b0f-162f-4bfe-8319-eee234356fce",
   "metadata": {},
   "outputs": [
    {
     "data": {
      "text/html": [
       "<div>\n",
       "<style scoped>\n",
       "    .dataframe tbody tr th:only-of-type {\n",
       "        vertical-align: middle;\n",
       "    }\n",
       "\n",
       "    .dataframe tbody tr th {\n",
       "        vertical-align: top;\n",
       "    }\n",
       "\n",
       "    .dataframe thead th {\n",
       "        text-align: right;\n",
       "    }\n",
       "</style>\n",
       "<table border=\"1\" class=\"dataframe\">\n",
       "  <thead>\n",
       "    <tr style=\"text-align: right;\">\n",
       "      <th></th>\n",
       "      <th>texto</th>\n",
       "      <th>LoR</th>\n",
       "      <th>NB</th>\n",
       "      <th>CART</th>\n",
       "      <th>SVC</th>\n",
       "      <th>LSVC</th>\n",
       "      <th>Robertuito</th>\n",
       "    </tr>\n",
       "  </thead>\n",
       "  <tbody>\n",
       "    <tr>\n",
       "      <th>0</th>\n",
       "      <td>Es una pelicula que cumple pero no destaca</td>\n",
       "      <td>0</td>\n",
       "      <td>0</td>\n",
       "      <td>0</td>\n",
       "      <td>0</td>\n",
       "      <td>0</td>\n",
       "      <td>0</td>\n",
       "    </tr>\n",
       "    <tr>\n",
       "      <th>1</th>\n",
       "      <td>la producción es impecable</td>\n",
       "      <td>1</td>\n",
       "      <td>1</td>\n",
       "      <td>-1</td>\n",
       "      <td>1</td>\n",
       "      <td>1</td>\n",
       "      <td>1</td>\n",
       "    </tr>\n",
       "    <tr>\n",
       "      <th>2</th>\n",
       "      <td>el guion carece de profundidad</td>\n",
       "      <td>-1</td>\n",
       "      <td>-1</td>\n",
       "      <td>-1</td>\n",
       "      <td>-1</td>\n",
       "      <td>-1</td>\n",
       "      <td>-1</td>\n",
       "    </tr>\n",
       "    <tr>\n",
       "      <th>3</th>\n",
       "      <td>el desarrollo de sus personajes es superficial...</td>\n",
       "      <td>-1</td>\n",
       "      <td>-1</td>\n",
       "      <td>-1</td>\n",
       "      <td>-1</td>\n",
       "      <td>-1</td>\n",
       "      <td>-1</td>\n",
       "    </tr>\n",
       "    <tr>\n",
       "      <th>4</th>\n",
       "      <td>Hay secuencias bien logradas</td>\n",
       "      <td>1</td>\n",
       "      <td>1</td>\n",
       "      <td>-1</td>\n",
       "      <td>1</td>\n",
       "      <td>1</td>\n",
       "      <td>1</td>\n",
       "    </tr>\n",
       "    <tr>\n",
       "      <th>5</th>\n",
       "      <td>el guion no tiene el mismo impacto emocional q...</td>\n",
       "      <td>-1</td>\n",
       "      <td>-1</td>\n",
       "      <td>-1</td>\n",
       "      <td>-1</td>\n",
       "      <td>-1</td>\n",
       "      <td>-1</td>\n",
       "    </tr>\n",
       "    <tr>\n",
       "      <th>6</th>\n",
       "      <td>Paul Mescal y Pedro Pascal ofrecen actuaciones...</td>\n",
       "      <td>-1</td>\n",
       "      <td>-1</td>\n",
       "      <td>-1</td>\n",
       "      <td>1</td>\n",
       "      <td>-1</td>\n",
       "      <td>1</td>\n",
       "    </tr>\n",
       "    <tr>\n",
       "      <th>7</th>\n",
       "      <td>la trama no alcanza el mismo nivel de profundi...</td>\n",
       "      <td>-1</td>\n",
       "      <td>-1</td>\n",
       "      <td>-1</td>\n",
       "      <td>-1</td>\n",
       "      <td>-1</td>\n",
       "      <td>-1</td>\n",
       "    </tr>\n",
       "    <tr>\n",
       "      <th>8</th>\n",
       "      <td>Las escenas de acción y la banda sonora son im...</td>\n",
       "      <td>0</td>\n",
       "      <td>1</td>\n",
       "      <td>-1</td>\n",
       "      <td>1</td>\n",
       "      <td>1</td>\n",
       "      <td>1</td>\n",
       "    </tr>\n",
       "    <tr>\n",
       "      <th>9</th>\n",
       "      <td>la falta de un personaje tan icónico como Máxi...</td>\n",
       "      <td>-1</td>\n",
       "      <td>-1</td>\n",
       "      <td>-1</td>\n",
       "      <td>-1</td>\n",
       "      <td>-1</td>\n",
       "      <td>-1</td>\n",
       "    </tr>\n",
       "  </tbody>\n",
       "</table>\n",
       "</div>"
      ],
      "text/plain": [
       "                                               texto  LoR  NB  CART  SVC  \\\n",
       "0         Es una pelicula que cumple pero no destaca    0   0     0    0   \n",
       "1                         la producción es impecable    1   1    -1    1   \n",
       "2                     el guion carece de profundidad   -1  -1    -1   -1   \n",
       "3  el desarrollo de sus personajes es superficial...   -1  -1    -1   -1   \n",
       "4                       Hay secuencias bien logradas    1   1    -1    1   \n",
       "5  el guion no tiene el mismo impacto emocional q...   -1  -1    -1   -1   \n",
       "6  Paul Mescal y Pedro Pascal ofrecen actuaciones...   -1  -1    -1    1   \n",
       "7  la trama no alcanza el mismo nivel de profundi...   -1  -1    -1   -1   \n",
       "8  Las escenas de acción y la banda sonora son im...    0   1    -1    1   \n",
       "9  la falta de un personaje tan icónico como Máxi...   -1  -1    -1   -1   \n",
       "\n",
       "   LSVC  Robertuito  \n",
       "0     0           0  \n",
       "1     1           1  \n",
       "2    -1          -1  \n",
       "3    -1          -1  \n",
       "4     1           1  \n",
       "5    -1          -1  \n",
       "6    -1           1  \n",
       "7    -1          -1  \n",
       "8     1           1  \n",
       "9    -1          -1  "
      ]
     },
     "execution_count": 398,
     "metadata": {},
     "output_type": "execute_result"
    }
   ],
   "source": [
    "etiquetado = []\n",
    "for name, model in models:\n",
    "    new_reviews_vectorized = vectorizer.transform(new_reviews)  \n",
    "    prediction = model.predict(new_reviews_vectorized) \n",
    "    for i, (review, sent) in enumerate(zip(new_reviews, prediction)):\n",
    "        if len(etiquetado) <= i:\n",
    "            etiquetado.append({'texto': review})\n",
    "        etiquetado[i][name] = sent\n",
    "res=sentiment(new_reviews)\n",
    "mapeo = {\"NEG\": -1, \"NEU\": 0, \"POS\": 1}\n",
    "number= [mapeo[pred['label']] for pred in res]\n",
    "df_resultados = pd.DataFrame(etiquetado)\n",
    "df_resultados['Robertuito']=number\n",
    "df_resultados\n",
    "\n"
   ]
  },
  {
   "cell_type": "code",
   "execution_count": null,
   "id": "03797d4a-ee42-4460-ba30-91defe4f0bd8",
   "metadata": {},
   "outputs": [],
   "source": []
  }
 ],
 "metadata": {
  "kernelspec": {
   "display_name": "Python [conda env:base] *",
   "language": "python",
   "name": "conda-base-py"
  },
  "language_info": {
   "codemirror_mode": {
    "name": "ipython",
    "version": 3
   },
   "file_extension": ".py",
   "mimetype": "text/x-python",
   "name": "python",
   "nbconvert_exporter": "python",
   "pygments_lexer": "ipython3",
   "version": "3.12.7"
  }
 },
 "nbformat": 4,
 "nbformat_minor": 5
}
