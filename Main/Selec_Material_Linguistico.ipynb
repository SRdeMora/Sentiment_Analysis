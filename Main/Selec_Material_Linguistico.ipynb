{
 "cells": [
  {
   "cell_type": "code",
   "execution_count": 3,
   "id": "571a731e-aa0f-4c51-b930-8b8cb8a5a7cd",
   "metadata": {},
   "outputs": [
    {
     "name": "stdout",
     "output_type": "stream",
     "text": [
      "Requirement already satisfied: nltk in c:\\users\\samuel\\anaconda3\\envs\\notebook-_1\\lib\\site-packages (3.9.1)\n",
      "Requirement already satisfied: click in c:\\users\\samuel\\anaconda3\\envs\\notebook-_1\\lib\\site-packages (from nltk) (8.1.8)\n",
      "Requirement already satisfied: joblib in c:\\users\\samuel\\anaconda3\\envs\\notebook-_1\\lib\\site-packages (from nltk) (1.4.2)\n",
      "Requirement already satisfied: regex>=2021.8.3 in c:\\users\\samuel\\anaconda3\\envs\\notebook-_1\\lib\\site-packages (from nltk) (2024.11.6)\n",
      "Requirement already satisfied: tqdm in c:\\users\\samuel\\anaconda3\\envs\\notebook-_1\\lib\\site-packages (from nltk) (4.67.1)\n",
      "Requirement already satisfied: colorama in c:\\users\\samuel\\anaconda3\\envs\\notebook-_1\\lib\\site-packages (from click->nltk) (0.4.6)\n"
     ]
    },
    {
     "name": "stderr",
     "output_type": "stream",
     "text": [
      "[nltk_data] Downloading package punkt to\n",
      "[nltk_data]     C:\\Users\\Samuel\\AppData\\Roaming\\nltk_data...\n",
      "[nltk_data]   Package punkt is already up-to-date!\n",
      "[nltk_data] Downloading package stopwords to\n",
      "[nltk_data]     C:\\Users\\Samuel\\AppData\\Roaming\\nltk_data...\n",
      "[nltk_data]   Package stopwords is already up-to-date!\n"
     ]
    }
   ],
   "source": [
    "from collections import Counter\n",
    "import string\n",
    "import pandas as pd\n",
    "!pip install nltk\n",
    "import nltk\n",
    "from nltk.tokenize import word_tokenize\n",
    "nltk.download('punkt')\n",
    "nltk.download('stopwords')\n",
    "from nltk.corpus import stopwords\n",
    "stopset=set(stopwords.words('spanish'))"
   ]
  },
  {
   "cell_type": "code",
   "execution_count": 4,
   "id": "991b277c-3255-4e79-b7c8-f092c8f9e022",
   "metadata": {
    "scrolled": true
   },
   "outputs": [],
   "source": [
    "import spacy\n",
    "nlp = spacy.load(\"es_core_news_sm\")"
   ]
  },
  {
   "cell_type": "code",
   "execution_count": 5,
   "id": "c1710b25-c16c-4652-986a-f55cde0bc668",
   "metadata": {
    "scrolled": true
   },
   "outputs": [
    {
     "data": {
      "text/html": [
       "<div>\n",
       "<style scoped>\n",
       "    .dataframe tbody tr th:only-of-type {\n",
       "        vertical-align: middle;\n",
       "    }\n",
       "\n",
       "    .dataframe tbody tr th {\n",
       "        vertical-align: top;\n",
       "    }\n",
       "\n",
       "    .dataframe thead th {\n",
       "        text-align: right;\n",
       "    }\n",
       "</style>\n",
       "<table border=\"1\" class=\"dataframe\">\n",
       "  <thead>\n",
       "    <tr style=\"text-align: right;\">\n",
       "      <th></th>\n",
       "      <th>Texto de la reseña</th>\n",
       "      <th>Etiqueta</th>\n",
       "    </tr>\n",
       "  </thead>\n",
       "  <tbody>\n",
       "    <tr>\n",
       "      <th>0</th>\n",
       "      <td>Una obra maestra del cine español. La atmósfer...</td>\n",
       "      <td>POS</td>\n",
       "    </tr>\n",
       "    <tr>\n",
       "      <th>1</th>\n",
       "      <td>La fotografía es espectacular, cada plano pare...</td>\n",
       "      <td>POS</td>\n",
       "    </tr>\n",
       "    <tr>\n",
       "      <th>2</th>\n",
       "      <td>Un thriller policíaco que mantiene la tensión ...</td>\n",
       "      <td>POS</td>\n",
       "    </tr>\n",
       "    <tr>\n",
       "      <th>3</th>\n",
       "      <td>Las actuaciones de los protagonistas son sobre...</td>\n",
       "      <td>POS</td>\n",
       "    </tr>\n",
       "    <tr>\n",
       "      <th>4</th>\n",
       "      <td>La ambientación es increíble, realmente te tra...</td>\n",
       "      <td>POS</td>\n",
       "    </tr>\n",
       "    <tr>\n",
       "      <th>...</th>\n",
       "      <td>...</td>\n",
       "      <td>...</td>\n",
       "    </tr>\n",
       "    <tr>\n",
       "      <th>463</th>\n",
       "      <td>\"El diseño de vestuario y escenarios es apropi...</td>\n",
       "      <td>NEU</td>\n",
       "    </tr>\n",
       "    <tr>\n",
       "      <th>464</th>\n",
       "      <td>\"No es la mejor obra de Ridley Scott, pero tam...</td>\n",
       "      <td>NEU</td>\n",
       "    </tr>\n",
       "    <tr>\n",
       "      <th>465</th>\n",
       "      <td>\"La película ofrece una mezcla de acción y dra...</td>\n",
       "      <td>NEU</td>\n",
       "    </tr>\n",
       "    <tr>\n",
       "      <th>466</th>\n",
       "      <td>\"El retrato de Napoleón es interesante, aunque...</td>\n",
       "      <td>NEU</td>\n",
       "    </tr>\n",
       "    <tr>\n",
       "      <th>467</th>\n",
       "      <td>\"Una experiencia cinematográfica aceptable, pe...</td>\n",
       "      <td>NEU</td>\n",
       "    </tr>\n",
       "  </tbody>\n",
       "</table>\n",
       "<p>468 rows × 2 columns</p>\n",
       "</div>"
      ],
      "text/plain": [
       "                                    Texto de la reseña Etiqueta\n",
       "0    Una obra maestra del cine español. La atmósfer...      POS\n",
       "1    La fotografía es espectacular, cada plano pare...      POS\n",
       "2    Un thriller policíaco que mantiene la tensión ...      POS\n",
       "3    Las actuaciones de los protagonistas son sobre...      POS\n",
       "4    La ambientación es increíble, realmente te tra...      POS\n",
       "..                                                 ...      ...\n",
       "463  \"El diseño de vestuario y escenarios es apropi...      NEU\n",
       "464  \"No es la mejor obra de Ridley Scott, pero tam...      NEU\n",
       "465  \"La película ofrece una mezcla de acción y dra...      NEU\n",
       "466  \"El retrato de Napoleón es interesante, aunque...      NEU\n",
       "467  \"Una experiencia cinematográfica aceptable, pe...      NEU\n",
       "\n",
       "[468 rows x 2 columns]"
      ]
     },
     "execution_count": 5,
     "metadata": {},
     "output_type": "execute_result"
    }
   ],
   "source": [
    "\n",
    "# Función para limpiar el texto y dividir en palabras\n",
    "def limpiar_texto(texto):\n",
    "    texto = texto.lower()  # Convertir a minúsculas\n",
    "    texto = texto.translate(str.maketrans(\"\", \"\", string.punctuation))  # Eliminar puntuación\n",
    "    palabras = word_tokenize(texto)  # Dividir el texto en palabras\n",
    "    stop_words_es = set(stopwords.words('spanish'))  # Lista de stopwords en español\n",
    "    palabras_filtradas = [palabra for palabra in palabras if palabra not in stop_words_es]\n",
    "    return palabras_filtradas\n",
    "\n",
    "# Cargar el archivo CSV\n",
    "df = pd.read_csv('Train_Data.csv')\n",
    "\n",
    "df"
   ]
  },
  {
   "cell_type": "code",
   "execution_count": 11,
   "id": "b1bb4723-ba23-45c1-baee-2c588a2dcd90",
   "metadata": {},
   "outputs": [],
   "source": [
    "marco_cine=[\"Gladiator 2\", \"secuela\", \"continuacion\", \"Ridley Scott\", \"Paul Mescal\", \"Denzel Washington\", \"Pedro Pascal\", \"Ridley Scott\", \"producción\", \"visual\", \"escenas\", \"efectos especiales\", \"coreografias\", \"música\", \"trama\", \"historia\", \"narrativa\", \"guion\"]\n"
   ]
  },
  {
   "cell_type": "code",
   "execution_count": 17,
   "id": "4ecc25e0-7a15-4219-898b-2e766e8fa552",
   "metadata": {
    "scrolled": true
   },
   "outputs": [],
   "source": [
    "# Crear una lista para acumular todas las palabras de las reseñas\n",
    "palabras_acumuladas = []\n",
    "\n",
    "# Procesar cada reseña en el DataFrame\n",
    "for texto in df['Texto de la reseña']:\n",
    "    palabras = limpiar_texto(texto)  # Limpiar cada reseña\n",
    "    palabras_acumuladas.extend(palabras)\n",
    "    #print(palabras_acumuladas)\n",
    "    #palabras_acumuladas.extend(palabras)  # Añadir palabras a la lista acumulativa\n",
    "conteo_palabras = Counter(palabras_acumuladas)\n",
    "wordcloud_estilo = conteo_palabras.most_common(100)  # Obtener las 100 palabras más comunes\n",
    "\n",
    "\n",
    "\n"
   ]
  },
  {
   "cell_type": "code",
   "execution_count": 23,
   "id": "a6521dbd-038b-4a07-be58-f2b7ba5a7794",
   "metadata": {},
   "outputs": [
    {
     "name": "stdout",
     "output_type": "stream",
     "text": [
      "Token: película-> IOB: B->107\n",
      "Token: personajes-> IOB: O->40\n",
      "Token: momentos-> IOB: O->32\n",
      "Token: acción-> IOB: B->26\n",
      "Token: desarrollo-> IOB: O->25\n",
      "Token: espectador-> IOB: O->24\n",
      "Token: ritmo-> IOB: B->23\n",
      "Token: profundidad-> IOB: O->23\n",
      "Token: dirección-> IOB: O->21\n",
      "Token: actuaciones-> IOB: O->20\n",
      "Token: cine-> IOB: O->17\n",
      "Token: manera-> IOB: O->17\n",
      "Token: ambientación-> IOB: O->15\n",
      "Token: representación-> IOB: O->15\n",
      "Token: obra-> IOB: O->14\n",
      "Token: efectos-> IOB: O->14\n",
      "Token: diálogos-> IOB: O->13\n",
      "Token: experiencia-> IOB: O->13\n",
      "Token: espectadores-> IOB: O->13\n",
      "Token: época-> IOB: O->13\n",
      "Token: banda-> IOB: O->12\n",
      "Token: batalla-> IOB: B->12\n",
      "Token: emoción-> IOB: O->12\n",
      "Token: género-> IOB: O->11\n",
      "Token: drama-> IOB: O->11\n",
      "Token: impacto-> IOB: O->10\n",
      "Token: interpretación-> IOB: O->10\n",
      "Token: visualmente-> IOB: O->9\n",
      "Token: credibilidad-> IOB: O->9\n",
      "Token: secundarios-> IOB: O->9\n",
      "Token: visión-> IOB: O->9\n",
      "Token: conmovedora-> IOB: O->8\n",
      "Token: captura-> IOB: O->8\n",
      "Token: motivaciones-> IOB: O->8\n",
      "Token: lucha-> IOB: O->8\n",
      "Token: thriller-> IOB: O->7\n",
      "Token: tensión-> IOB: O->7\n",
      "Token: secundarias-> IOB: O->7\n",
      "Token: interés-> IOB: O->7\n",
      "Token: impresión-> IOB: O->7\n",
      "Token: mundo-> IOB: O->7\n",
      "Token: secuencias-> IOB: O->7\n",
      "Token: combinación-> IOB: O->7\n",
      "Token: duración-> IOB: O->7\n",
      "Token: actuación-> IOB: O->7\n",
      "Token: vida-> IOB: O->7\n",
      "46\n"
     ]
    }
   ],
   "source": [
    "etiquetado=[]\n",
    "# Mostrar las palabras más comunes\n",
    "for palabra, frecuencia in wordcloud_estilo:\n",
    "    doc = nlp(palabra)\n",
    "    if palabra not in marco_cine:\n",
    "        for token in  doc:\n",
    "            if token.pos_=='NOUN':\n",
    "                t=token.text\n",
    "                iob=token.ent_iob_\n",
    "                tipo=token.ent_type_\n",
    "                etiqueta=[t,iob,frecuencia]\n",
    "                etiquetado.append(etiqueta)\n",
    "                print(f\"Token: {token.text}-> IOB: {token.ent_iob_}->{frecuencia}\")\n",
    "print(len(etiquetado))       "
   ]
  },
  {
   "cell_type": "code",
   "execution_count": null,
   "id": "aac1d1e8-bed9-4eb6-8038-5a4c3dd856bf",
   "metadata": {},
   "outputs": [],
   "source": [
    "Pelicula=\"pelicula\""
   ]
  },
  {
   "cell_type": "code",
   "execution_count": null,
   "id": "101fad2b-3ee1-4817-9f4a-9f08ec947d4c",
   "metadata": {},
   "outputs": [],
   "source": [
    "Script= \"desarrollo\",\"profundidad\",\"personajes\""
   ]
  },
  {
   "cell_type": "code",
   "execution_count": null,
   "id": "ae6f7b96-217f-42c5-bbf5-b85abd0ab026",
   "metadata": {},
   "outputs": [],
   "source": [
    "Produccion=\"dirección\",\"ambientación\",\"dirección\",\"secuencias\""
   ]
  }
 ],
 "metadata": {
  "kernelspec": {
   "display_name": "Python [conda env:notebook-_1]",
   "language": "python",
   "name": "conda-env-notebook-_1-py"
  },
  "language_info": {
   "codemirror_mode": {
    "name": "ipython",
    "version": 3
   },
   "file_extension": ".py",
   "mimetype": "text/x-python",
   "name": "python",
   "nbconvert_exporter": "python",
   "pygments_lexer": "ipython3",
   "version": "3.12.9"
  }
 },
 "nbformat": 4,
 "nbformat_minor": 5
}
